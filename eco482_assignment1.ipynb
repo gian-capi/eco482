{
 "cells": [
  {
   "cell_type": "markdown",
   "metadata": {},
   "source": [
    "<span style=\"font-size:24px; font-weight:bold;\">**Algorithmic Implementation**</span>"
   ]
  },
  {
   "cell_type": "code",
   "execution_count": 80,
   "metadata": {},
   "outputs": [
    {
     "data": {
      "text/html": [
       "<div>\n",
       "<style scoped>\n",
       "    .dataframe tbody tr th:only-of-type {\n",
       "        vertical-align: middle;\n",
       "    }\n",
       "\n",
       "    .dataframe tbody tr th {\n",
       "        vertical-align: top;\n",
       "    }\n",
       "\n",
       "    .dataframe thead th {\n",
       "        text-align: right;\n",
       "    }\n",
       "</style>\n",
       "<table border=\"1\" class=\"dataframe\">\n",
       "  <thead>\n",
       "    <tr style=\"text-align: right;\">\n",
       "      <th></th>\n",
       "      <th>hhid</th>\n",
       "      <th>cellphone</th>\n",
       "      <th>wealth</th>\n",
       "      <th>size</th>\n",
       "      <th>education_years</th>\n",
       "      <th>education_other</th>\n",
       "      <th>bank_acct</th>\n",
       "      <th>mattress</th>\n",
       "      <th>sacco</th>\n",
       "      <th>merry</th>\n",
       "      <th>...</th>\n",
       "      <th>d1</th>\n",
       "      <th>d2</th>\n",
       "      <th>d3</th>\n",
       "      <th>d4</th>\n",
       "      <th>d5</th>\n",
       "      <th>false</th>\n",
       "      <th>lmean_recddist</th>\n",
       "      <th>ldistance</th>\n",
       "      <th>urban</th>\n",
       "      <th>mweight</th>\n",
       "    </tr>\n",
       "  </thead>\n",
       "  <tbody>\n",
       "    <tr>\n",
       "      <th>0</th>\n",
       "      <td>1649034</td>\n",
       "      <td>1.0</td>\n",
       "      <td>202600.0</td>\n",
       "      <td>1.0</td>\n",
       "      <td>3.0</td>\n",
       "      <td>0.0</td>\n",
       "      <td>no</td>\n",
       "      <td>no</td>\n",
       "      <td>no</td>\n",
       "      <td>no</td>\n",
       "      <td>...</td>\n",
       "      <td>0.0</td>\n",
       "      <td>0.0</td>\n",
       "      <td>0.0</td>\n",
       "      <td>0.0</td>\n",
       "      <td>1.0</td>\n",
       "      <td>0.0</td>\n",
       "      <td>NaN</td>\n",
       "      <td>NaN</td>\n",
       "      <td>1</td>\n",
       "      <td>4.305487</td>\n",
       "    </tr>\n",
       "    <tr>\n",
       "      <th>1</th>\n",
       "      <td>1649056</td>\n",
       "      <td>0.0</td>\n",
       "      <td>13300.0</td>\n",
       "      <td>5.0</td>\n",
       "      <td>8.0</td>\n",
       "      <td>0.0</td>\n",
       "      <td>no</td>\n",
       "      <td>yes</td>\n",
       "      <td>no</td>\n",
       "      <td>yes</td>\n",
       "      <td>...</td>\n",
       "      <td>0.4</td>\n",
       "      <td>0.2</td>\n",
       "      <td>0.2</td>\n",
       "      <td>0.2</td>\n",
       "      <td>0.0</td>\n",
       "      <td>NaN</td>\n",
       "      <td>NaN</td>\n",
       "      <td>NaN</td>\n",
       "      <td>1</td>\n",
       "      <td>4.006307</td>\n",
       "    </tr>\n",
       "    <tr>\n",
       "      <th>2</th>\n",
       "      <td>1649063</td>\n",
       "      <td>1.0</td>\n",
       "      <td>149700.0</td>\n",
       "      <td>5.0</td>\n",
       "      <td>0.0</td>\n",
       "      <td>1.0</td>\n",
       "      <td>no</td>\n",
       "      <td>no</td>\n",
       "      <td>yes</td>\n",
       "      <td>yes</td>\n",
       "      <td>...</td>\n",
       "      <td>0.6</td>\n",
       "      <td>0.0</td>\n",
       "      <td>0.2</td>\n",
       "      <td>0.2</td>\n",
       "      <td>0.0</td>\n",
       "      <td>NaN</td>\n",
       "      <td>NaN</td>\n",
       "      <td>NaN</td>\n",
       "      <td>1</td>\n",
       "      <td>3.904419</td>\n",
       "    </tr>\n",
       "    <tr>\n",
       "      <th>3</th>\n",
       "      <td>1649041</td>\n",
       "      <td>1.0</td>\n",
       "      <td>20000.0</td>\n",
       "      <td>5.0</td>\n",
       "      <td>12.0</td>\n",
       "      <td>0.0</td>\n",
       "      <td>no</td>\n",
       "      <td>yes</td>\n",
       "      <td>no</td>\n",
       "      <td>no</td>\n",
       "      <td>...</td>\n",
       "      <td>0.4</td>\n",
       "      <td>0.2</td>\n",
       "      <td>0.2</td>\n",
       "      <td>0.2</td>\n",
       "      <td>0.0</td>\n",
       "      <td>NaN</td>\n",
       "      <td>5.913503</td>\n",
       "      <td>5.372935</td>\n",
       "      <td>1</td>\n",
       "      <td>4.054456</td>\n",
       "    </tr>\n",
       "    <tr>\n",
       "      <th>4</th>\n",
       "      <td>1649012</td>\n",
       "      <td>1.0</td>\n",
       "      <td>31000.0</td>\n",
       "      <td>5.0</td>\n",
       "      <td>0.0</td>\n",
       "      <td>0.0</td>\n",
       "      <td>yes</td>\n",
       "      <td>yes</td>\n",
       "      <td>no</td>\n",
       "      <td>no</td>\n",
       "      <td>...</td>\n",
       "      <td>0.0</td>\n",
       "      <td>0.0</td>\n",
       "      <td>0.2</td>\n",
       "      <td>0.4</td>\n",
       "      <td>0.2</td>\n",
       "      <td>1.0</td>\n",
       "      <td>NaN</td>\n",
       "      <td>NaN</td>\n",
       "      <td>1</td>\n",
       "      <td>3.706399</td>\n",
       "    </tr>\n",
       "  </tbody>\n",
       "</table>\n",
       "<p>5 rows × 112 columns</p>\n",
       "</div>"
      ],
      "text/plain": [
       "      hhid  cellphone    wealth  size  education_years  education_other  \\\n",
       "0  1649034        1.0  202600.0   1.0              3.0              0.0   \n",
       "1  1649056        0.0   13300.0   5.0              8.0              0.0   \n",
       "2  1649063        1.0  149700.0   5.0              0.0              1.0   \n",
       "3  1649041        1.0   20000.0   5.0             12.0              0.0   \n",
       "4  1649012        1.0   31000.0   5.0              0.0              0.0   \n",
       "\n",
       "  bank_acct mattress sacco merry  ...   d1   d2   d3   d4   d5  false  \\\n",
       "0        no       no    no    no  ...  0.0  0.0  0.0  0.0  1.0    0.0   \n",
       "1        no      yes    no   yes  ...  0.4  0.2  0.2  0.2  0.0    NaN   \n",
       "2        no       no   yes   yes  ...  0.6  0.0  0.2  0.2  0.0    NaN   \n",
       "3        no      yes    no    no  ...  0.4  0.2  0.2  0.2  0.0    NaN   \n",
       "4       yes      yes    no    no  ...  0.0  0.0  0.2  0.4  0.2    1.0   \n",
       "\n",
       "   lmean_recddist  ldistance  urban   mweight  \n",
       "0             NaN        NaN      1  4.305487  \n",
       "1             NaN        NaN      1  4.006307  \n",
       "2             NaN        NaN      1  3.904419  \n",
       "3        5.913503   5.372935      1  4.054456  \n",
       "4             NaN        NaN      1  3.706399  \n",
       "\n",
       "[5 rows x 112 columns]"
      ]
     },
     "execution_count": 80,
     "metadata": {},
     "output_type": "execute_result"
    }
   ],
   "source": [
    "import pandas as pd\n",
    "\n",
    "money = pd.read_csv('/Users/capi/Downloads/mobile_money.csv')\n",
    "money.head()"
   ]
  },
  {
   "cell_type": "code",
   "execution_count": 81,
   "metadata": {},
   "outputs": [
    {
     "data": {
      "text/plain": [
       "count     2282\n",
       "unique       2\n",
       "top        yes\n",
       "freq      1676\n",
       "Name: mpesa_user, dtype: object"
      ]
     },
     "execution_count": 81,
     "metadata": {},
     "output_type": "execute_result"
    }
   ],
   "source": [
    "mpesa_summary = money['mpesa_user'].describe()\n",
    "mpesa_summary"
   ]
  },
  {
   "cell_type": "code",
   "execution_count": 82,
   "metadata": {},
   "outputs": [
    {
     "data": {
      "text/html": [
       "<div>\n",
       "<style scoped>\n",
       "    .dataframe tbody tr th:only-of-type {\n",
       "        vertical-align: middle;\n",
       "    }\n",
       "\n",
       "    .dataframe tbody tr th {\n",
       "        vertical-align: top;\n",
       "    }\n",
       "\n",
       "    .dataframe thead tr th {\n",
       "        text-align: left;\n",
       "    }\n",
       "\n",
       "    .dataframe thead tr:last-of-type th {\n",
       "        text-align: right;\n",
       "    }\n",
       "</style>\n",
       "<table border=\"1\" class=\"dataframe\">\n",
       "  <thead>\n",
       "    <tr>\n",
       "      <th></th>\n",
       "      <th colspan=\"8\" halign=\"left\">cellphone</th>\n",
       "      <th colspan=\"2\" halign=\"left\">totexppc</th>\n",
       "      <th>...</th>\n",
       "      <th colspan=\"2\" halign=\"left\">occ_other</th>\n",
       "      <th colspan=\"8\" halign=\"left\">occ_ue</th>\n",
       "    </tr>\n",
       "    <tr>\n",
       "      <th></th>\n",
       "      <th>count</th>\n",
       "      <th>mean</th>\n",
       "      <th>std</th>\n",
       "      <th>min</th>\n",
       "      <th>25%</th>\n",
       "      <th>50%</th>\n",
       "      <th>75%</th>\n",
       "      <th>max</th>\n",
       "      <th>count</th>\n",
       "      <th>mean</th>\n",
       "      <th>...</th>\n",
       "      <th>75%</th>\n",
       "      <th>max</th>\n",
       "      <th>count</th>\n",
       "      <th>mean</th>\n",
       "      <th>std</th>\n",
       "      <th>min</th>\n",
       "      <th>25%</th>\n",
       "      <th>50%</th>\n",
       "      <th>75%</th>\n",
       "      <th>max</th>\n",
       "    </tr>\n",
       "    <tr>\n",
       "      <th>mpesa_user</th>\n",
       "      <th></th>\n",
       "      <th></th>\n",
       "      <th></th>\n",
       "      <th></th>\n",
       "      <th></th>\n",
       "      <th></th>\n",
       "      <th></th>\n",
       "      <th></th>\n",
       "      <th></th>\n",
       "      <th></th>\n",
       "      <th></th>\n",
       "      <th></th>\n",
       "      <th></th>\n",
       "      <th></th>\n",
       "      <th></th>\n",
       "      <th></th>\n",
       "      <th></th>\n",
       "      <th></th>\n",
       "      <th></th>\n",
       "      <th></th>\n",
       "      <th></th>\n",
       "    </tr>\n",
       "  </thead>\n",
       "  <tbody>\n",
       "    <tr>\n",
       "      <th>no</th>\n",
       "      <td>598.0</td>\n",
       "      <td>0.424749</td>\n",
       "      <td>0.494719</td>\n",
       "      <td>0.0</td>\n",
       "      <td>0.0</td>\n",
       "      <td>0.0</td>\n",
       "      <td>1.0</td>\n",
       "      <td>1.0</td>\n",
       "      <td>605.0</td>\n",
       "      <td>53913.083213</td>\n",
       "      <td>...</td>\n",
       "      <td>0.0</td>\n",
       "      <td>1.0</td>\n",
       "      <td>606.0</td>\n",
       "      <td>0.092409</td>\n",
       "      <td>0.289842</td>\n",
       "      <td>0.0</td>\n",
       "      <td>0.0</td>\n",
       "      <td>0.0</td>\n",
       "      <td>0.0</td>\n",
       "      <td>1.0</td>\n",
       "    </tr>\n",
       "    <tr>\n",
       "      <th>yes</th>\n",
       "      <td>1675.0</td>\n",
       "      <td>0.921791</td>\n",
       "      <td>0.268580</td>\n",
       "      <td>0.0</td>\n",
       "      <td>1.0</td>\n",
       "      <td>1.0</td>\n",
       "      <td>1.0</td>\n",
       "      <td>1.0</td>\n",
       "      <td>1675.0</td>\n",
       "      <td>84470.777873</td>\n",
       "      <td>...</td>\n",
       "      <td>0.0</td>\n",
       "      <td>1.0</td>\n",
       "      <td>1676.0</td>\n",
       "      <td>0.078759</td>\n",
       "      <td>0.269443</td>\n",
       "      <td>0.0</td>\n",
       "      <td>0.0</td>\n",
       "      <td>0.0</td>\n",
       "      <td>0.0</td>\n",
       "      <td>1.0</td>\n",
       "    </tr>\n",
       "  </tbody>\n",
       "</table>\n",
       "<p>2 rows × 168 columns</p>\n",
       "</div>"
      ],
      "text/plain": [
       "           cellphone                                              totexppc  \\\n",
       "               count      mean       std  min  25%  50%  75%  max    count   \n",
       "mpesa_user                                                                   \n",
       "no             598.0  0.424749  0.494719  0.0  0.0  0.0  1.0  1.0    605.0   \n",
       "yes           1675.0  0.921791  0.268580  0.0  1.0  1.0  1.0  1.0   1675.0   \n",
       "\n",
       "                          ... occ_other       occ_ue                           \\\n",
       "                    mean  ...       75%  max   count      mean       std  min   \n",
       "mpesa_user                ...                                                   \n",
       "no          53913.083213  ...       0.0  1.0   606.0  0.092409  0.289842  0.0   \n",
       "yes         84470.777873  ...       0.0  1.0  1676.0  0.078759  0.269443  0.0   \n",
       "\n",
       "                                \n",
       "            25%  50%  75%  max  \n",
       "mpesa_user                      \n",
       "no          0.0  0.0  0.0  1.0  \n",
       "yes         0.0  0.0  0.0  1.0  \n",
       "\n",
       "[2 rows x 168 columns]"
      ]
     },
     "execution_count": 82,
     "metadata": {},
     "output_type": "execute_result"
    }
   ],
   "source": [
    "variables_to_analyze = [\n",
    "    'cellphone', 'totexppc', 'wkexppc', 'wealth', 'size', 'education_years', 'pos', 'neg', 'ag', 'sick', \n",
    "    'sendd', 'recdd', 'bank_acct', 'mattress', 'sacco', 'merry', 'occ_farmer', 'occ_public', 'occ_prof', \n",
    "    'occ_help', 'occ_bus', 'occ_sales', 'occ_ind', 'occ_other', 'occ_ue'\n",
    "]\n",
    "\n",
    "grouped_summary = money[variables_to_analyze + ['mpesa_user']].groupby('mpesa_user').describe()\n",
    "\n",
    "grouped_summary"
   ]
  },
  {
   "cell_type": "code",
   "execution_count": 83,
   "metadata": {},
   "outputs": [
    {
     "data": {
      "text/plain": [
       "((0.8315098468271335, 0.8402625820568927, 0.8271334792122538),\n",
       " (0.8860657294832828, 0.8744063449848025, 0.8833824088145896))"
      ]
     },
     "execution_count": 83,
     "metadata": {},
     "output_type": "execute_result"
    }
   ],
   "source": [
    "from sklearn.model_selection import train_test_split\n",
    "from sklearn.preprocessing import StandardScaler\n",
    "from sklearn.linear_model import LogisticRegression\n",
    "from sklearn.ensemble import RandomForestClassifier\n",
    "from sklearn.discriminant_analysis import LinearDiscriminantAnalysis\n",
    "from sklearn.metrics import accuracy_score, roc_auc_score\n",
    "\n",
    "# Convert categorical variables to numeric (e.g. 'yes' with 1, 'no' with 0)\n",
    "categorical_columns = ['bank_acct', 'mattress', 'sacco', 'merry', 'occ_farmer', 'occ_public', 'occ_prof', 'occ_help', 'occ_ue', \n",
    "                       'occ_bus', 'occ_sales', 'occ_ind', 'occ_other']\n",
    "\n",
    "# Replace 'yes' with 1 and 'no' with 0 in categorical columns\n",
    "money[categorical_columns] = money[categorical_columns].replace({'yes': 1, 'no': 0})\n",
    "\n",
    "# Prepare data (predictors and predictor)\n",
    "X = money[variables_to_analyze] # Features (preidctors)\n",
    "Y = money['mpesa_user'] # Outcome Variable (predicted)\n",
    "\n",
    "# Clean data by filling NaNs with median of data for a given variable X\n",
    "X = X.fillna(X.median())\n",
    "\n",
    "# Train-test split 80-20\n",
    "X_train, X_test, Y_train, Y_test = train_test_split(X, Y, test_size = 0.2, random_state = 42)\n",
    "\n",
    "# Standardize data (predictors)\n",
    "scaler = StandardScaler()\n",
    "X_train_scaled = scaler.fit_transform(X_train)\n",
    "X_test_scaled = scaler.transform(X_test)\n",
    "\n",
    "# Logistic regression classifier model\n",
    "log_reg = LogisticRegression(max_iter = 1000)\n",
    "log_reg.fit(X_train_scaled, Y_train)\n",
    "Y_pred_log_reg = log_reg.predict(X_test_scaled)\n",
    "\n",
    "# Random forest classifier model\n",
    "rf = RandomForestClassifier(n_estimators = 100, random_state = 42)\n",
    "rf.fit(X_train_scaled, Y_train)\n",
    "Y_pred_rf = rf.predict(X_test_scaled)\n",
    "\n",
    "# Linear discriminant analysis classifier model\n",
    "lda = LinearDiscriminantAnalysis()\n",
    "lda.fit(X_train_scaled, Y_train)\n",
    "Y_pred_lda = lda.predict(X_test_scaled)\n",
    "\n",
    "# Evaluate accuracy of the models\n",
    "log_reg_accuracy = accuracy_score(Y_test, Y_pred_log_reg)\n",
    "rf_accuracy = accuracy_score(Y_test, Y_pred_rf)\n",
    "lda_accuracy = accuracy_score(Y_test, Y_pred_lda)\n",
    "\n",
    "# Evalutate area under the curve (AUC) criteria of the models\n",
    "log_reg_auc = roc_auc_score(Y_test, log_reg.predict_proba(X_test_scaled)[:, 1])\n",
    "rf_auc = roc_auc_score(Y_test, rf.predict_proba(X_test_scaled)[:, 1])\n",
    "lda_auc = roc_auc_score(Y_test, lda.predict_proba(X_test_scaled)[:, 1])\n",
    "\n",
    "# Display results\n",
    "(log_reg_accuracy, rf_accuracy, lda_accuracy), (log_reg_auc, rf_auc, lda_auc)"
   ]
  },
  {
   "cell_type": "markdown",
   "metadata": {},
   "source": [
    "Logistic regression, random forest, and linear discriminant analysis (LDA) classifier models have accuracy of approximately 83.15%, 84.03%, and 82.71% respectively.\n",
    "\n",
    "Therefore, LDA has the least accurate measure, followed by logistic regression, indicating that a more flexible model is needed. The random forest model had the highest accuracy indicating potential non-linearity in the data.\n",
    "\n",
    "Logistic regression, random forest, and linear discriminant analysis classifier models have area under the curve (AUC) criteria estimates of approximately 88.61%, 87.44%, and 88.34% respectively.\n",
    "\n",
    "Therefore, the logistic regression and LDA have similar AUC critera however for the logistic regression it is slightly higher by about 0.27% making it the slightly better classifier in terms of AUC criteria. The random forest AUC is lower than both by about 1%.\n",
    "\n",
    "As a result, based on accuracy the random forest classifier is the best but based on AUC criteria the logistic regression is preferred, in terms of accurately distinguishing classes."
   ]
  },
  {
   "cell_type": "code",
   "execution_count": 84,
   "metadata": {},
   "outputs": [
    {
     "data": {
      "image/png": "[encoded data removed]",
      "text/plain": [
       "<Figure size 720x432 with 1 Axes>"
      ]
     },
     "metadata": {
      "needs_background": "light"
     },
     "output_type": "display_data"
    }
   ],
   "source": [
    "import matplotlib.pyplot as plt\n",
    "import numpy as np\n",
    "\n",
    "# Get feature importances from trained random forest model\n",
    "feature_importances = rf.feature_importances_\n",
    "\n",
    "# Get feature names corresponding to columns used\n",
    "feature_names = X.columns\n",
    "\n",
    "# Sort features by importance\n",
    "sorted_idx = np.argsort(feature_importances)[::-1]\n",
    "\n",
    "# Plot feature importances\n",
    "plt.figure(figsize = (10, 6))\n",
    "plt.barh(feature_names[sorted_idx], feature_importances[sorted_idx], align = 'center')\n",
    "plt.xlabel('Relative Importance')\n",
    "plt.title('Feature Importance Based on Random Forest Classifier')\n",
    "plt.gca().invert_yaxis()\n",
    "plt.show()"
   ]
  },
  {
   "cell_type": "code",
   "execution_count": 85,
   "metadata": {},
   "outputs": [
    {
     "data": {
      "image/png": "[encoded data removed]",
      "text/plain": [
       "<Figure size 720x432 with 1 Axes>"
      ]
     },
     "metadata": {
      "needs_background": "light"
     },
     "output_type": "display_data"
    },
    {
     "data": {
      "text/plain": [
       "(9, 0.8169863013698629)"
      ]
     },
     "execution_count": 85,
     "metadata": {},
     "output_type": "execute_result"
    }
   ],
   "source": [
    "from sklearn.model_selection import cross_val_score\n",
    "from sklearn.neighbors import KNeighborsClassifier\n",
    "\n",
    "# Generate list to store cross-validation results for each value of K\n",
    "k_values = range(1, 11) # K from 1 to 10\n",
    "cv_results = []\n",
    "\n",
    "# Perform cross-validation for each K\n",
    "for k in k_values:\n",
    "    knn = KNeighborsClassifier(n_neighbors = k)\n",
    "    cv_scores = cross_val_score(knn, X_train_scaled, Y_train, cv = 5, scoring = 'accuracy') # 5-fold cross-validation\n",
    "    cv_results.append(np.mean(cv_scores)) # Store the mean accuracy for each K\n",
    "\n",
    "# Find the best K\n",
    "best_k = k_values[np.argmax(cv_results)]\n",
    "best_cv_score = np.max(cv_results)\n",
    "\n",
    "# Plot the cross-validation scores for each K\n",
    "plt.figure(figsize = (10, 6))\n",
    "plt.plot(k_values, cv_results, marker = 'o', linestyle = '-', color = 'b')\n",
    "plt.title('KNN Classifier: Cross-Validation Accuracy for Values of K')\n",
    "plt.xlabel('Number of Neighbors (K)')\n",
    "plt.ylabel('Mean Cross-Validation Accuracy')\n",
    "plt.grid(True)\n",
    "plt.show()\n",
    "\n",
    "# Best K and its cross-validation accuracy score \n",
    "best_k, best_cv_score "
   ]
  },
  {
   "cell_type": "markdown",
   "metadata": {},
   "source": [
    "Best performing K occurs at K = 9 with a mean cross-validation accuracy of approximately 81.7%."
   ]
  },
  {
   "cell_type": "code",
   "execution_count": 86,
   "metadata": {},
   "outputs": [
    {
     "name": "stdout",
     "output_type": "stream",
     "text": [
      "Fitting 5 folds for each of 8 candidates, totalling 40 fits\n"
     ]
    },
    {
     "data": {
      "text/plain": [
       "({'C': 0.1, 'penalty': 'l2'}, 0.838904109589041)"
      ]
     },
     "execution_count": 86,
     "metadata": {},
     "output_type": "execute_result"
    }
   ],
   "source": [
    "from sklearn.model_selection import GridSearchCV\n",
    "from sklearn.linear_model import LogisticRegression\n",
    "\n",
    "# Define parameter grid for logistic regression\n",
    "param_grid = {\n",
    "    'penalty': ['l1', 'l2'], # l1 is Lasso and l2 is Ridge regularization\n",
    "    'C': [0.1, 1, 10, 100]   # Regularization strength\n",
    "}\n",
    "\n",
    "# Generate logistic regression model\n",
    "log_reg_model = LogisticRegression(max_iter = 1000, solver = 'liblinear')\n",
    "\n",
    "# Grid search with cross-validation\n",
    "grid_search = GridSearchCV(log_reg_model, param_grid, cv = 5, scoring = 'accuracy', verbose = 1)\n",
    "\n",
    "# Fit grid search to the data\n",
    "grid_search.fit(X_train_scaled, Y_train)\n",
    "\n",
    "# Get best parameters and score\n",
    "best_params = grid_search.best_params_\n",
    "best_score = grid_search.best_score_\n",
    "\n",
    "best_params, best_score"
   ]
  },
  {
   "cell_type": "markdown",
   "metadata": {},
   "source": [
    "Therefore, the best combination of hyperparameters to achieve the best cross-validation accuracy for the logistic regression is C = 0.1 using Ridge regularization as the penalty method."
   ]
  },
  {
   "cell_type": "code",
   "execution_count": 87,
   "metadata": {},
   "outputs": [
    {
     "data": {
      "image/png": "[encoded data removed]",
      "text/plain": [
       "<Figure size 720x432 with 1 Axes>"
      ]
     },
     "metadata": {
      "needs_background": "light"
     },
     "output_type": "display_data"
    }
   ],
   "source": [
    "# Get results from grid search\n",
    "results = grid_search.cv_results_\n",
    "\n",
    "# Create a DataFrame\n",
    "cv_results_df = pd.DataFrame(results)\n",
    "\n",
    "# Plot the results\n",
    "plt.figure(figsize=(10, 6))\n",
    "for penalty in ['l1', 'l2']:\n",
    "    # Filter the rows for each penalty and plot accuracy vs C\n",
    "    mask = cv_results_df['param_penalty'] == penalty\n",
    "    plt.plot(cv_results_df.loc[mask, 'param_C'], cv_results_df.loc[mask, 'mean_test_score'], marker='o', label=f'Penalty = {penalty}')\n",
    "\n",
    "plt.xlabel('Regularization Strength (C)')\n",
    "plt.ylabel('Mean Cross-Validation Accuracy')\n",
    "plt.title('Logistic Regression: Accuracy vs C for L1 and L2 Regularization')\n",
    "plt.legend()\n",
    "plt.xscale('log')  \n",
    "plt.grid(True)\n",
    "plt.show()"
   ]
  },
  {
   "cell_type": "markdown",
   "metadata": {},
   "source": [
    "As C increases regularization weakens, and the accuracy for the Lasso regularization method initally increases from C = 0.1 to C = 1 but then decreases after C = 1. As for the Ridge regularization method the accuracy decreases throughout and remains the same at C = 10 and C = 100. At C = 0.1 the Ridge method is more accurate but for C = 1, 10, 100 the Lasso method provides a more accurate model."
   ]
  },
  {
   "cell_type": "markdown",
   "metadata": {},
   "source": [
    "The random forest classifier is the best due to it being the most accurate of the three classifiers, almost 1% more accurate than logistic regression and 1.32% more accurate than LDA. Therefore, it is slightly more accurate in distinguishing classes especially those who have a cell phone from those who don't which is the most important feature in the model when predicting who adopts mobile money."
   ]
  },
  {
   "cell_type": "markdown",
   "metadata": {},
   "source": [
    "Those who have a phone is the most relevant feature in determining if an indivdual adopts mobile money, followed by wealth, consumption per capita, and food consumption per capita in descending order of importance. Therefore, the Kenyan government should target the population with low levels of these measures by enacting policies such as subsidizing sales of cell phones to increase cell phone purchases resulting in increased mobile money adoption."
   ]
  },
  {
   "cell_type": "code",
   "execution_count": null,
   "metadata": {},
   "outputs": [],
   "source": []
  }
 ],
 "metadata": {
  "kernelspec": {
   "display_name": "Python 3",
   "language": "python",
   "name": "python3"
  },
  "language_info": {
   "codemirror_mode": {
    "name": "ipython",
    "version": 3
   },
   "file_extension": ".py",
   "mimetype": "text/x-python",
   "name": "python",
   "nbconvert_exporter": "python",
   "pygments_lexer": "ipython3",
   "version": "3.8.3"
  }
 },
 "nbformat": 4,
 "nbformat_minor": 4
}
